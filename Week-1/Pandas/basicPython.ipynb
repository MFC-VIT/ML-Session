{
 "cells": [
  {
   "cell_type": "code",
   "execution_count": 34,
   "metadata": {},
   "outputs": [
    {
     "data": {
      "text/html": [
       "<script>\n",
       "  function code_toggle() {\n",
       "    if (code_shown){\n",
       "      $('div.input').hide('500');\n",
       "      $('#toggleButton').val('Show Code')\n",
       "    } else {\n",
       "      $('div.input').show('500');\n",
       "      $('#toggleButton').val('Hide Code')\n",
       "    }\n",
       "    code_shown = !code_shown\n",
       "  }\n",
       "\n",
       "  $( document ).ready(function(){\n",
       "    code_shown=false;\n",
       "    $('div.input').hide()\n",
       "  });\n",
       "</script>\n",
       "<form action=\"javascript:code_toggle()\"><input type=\"submit\" id=\"toggleButton\" value=\"Show Code\"></form>\n"
      ],
      "text/plain": [
       "<IPython.core.display.HTML object>"
      ]
     },
     "metadata": {},
     "output_type": "display_data"
    }
   ],
   "source": [
    "%%HTML\n",
    "<script>\n",
    "  function code_toggle() {\n",
    "    if (code_shown){\n",
    "      $('div.input').hide('500');\n",
    "      $('#toggleButton').val('Show Code')\n",
    "    } else {\n",
    "      $('div.input').show('500');\n",
    "      $('#toggleButton').val('Hide Code')\n",
    "    }\n",
    "    code_shown = !code_shown\n",
    "  }\n",
    "\n",
    "  $( document ).ready(function(){\n",
    "    code_shown=false;\n",
    "    $('div.input').hide()\n",
    "  });\n",
    "</script>\n",
    "<form action=\"javascript:code_toggle()\"><input type=\"submit\" id=\"toggleButton\" value=\"Show Code\"></form>"
   ]
  },
  {
   "cell_type": "markdown",
   "metadata": {},
   "source": [
    "### Input and Print\n",
    "You are given a rectangle in a plane.<br> \n",
    "The corner coordinates of this rectangle is provided to you. You have to print the <b>amount of area of the plane covered by this rectangles</b>.<br>\n",
    "The end coordinates are provided as four integral values: x1, y1, x2, y2. It is given that x1 < x2 and y1 < y2.\n"
   ]
  },
  {
   "cell_type": "code",
   "execution_count": 21,
   "metadata": {
    "scrolled": true
   },
   "outputs": [
    {
     "name": "stdout",
     "output_type": "stream",
     "text": [
      "1\n",
      "2\n",
      "3\n",
      "4\n",
      "area is :  4\n"
     ]
    }
   ],
   "source": [
    "x1=int(input())\n",
    "y1=int(input())\n",
    "x2=int(input())\n",
    "y2=int(input())\n",
    "print(\"area is : \",(x2-x1)*(y2-y1))"
   ]
  },
  {
   "cell_type": "markdown",
   "metadata": {},
   "source": [
    "### IF-ELSE Conditions in python\n",
    "Given an integer,\n",
    "<p>perform the following conditional actions:</p>\n",
    "\n",
    "- If n is odd, print <b>Weird</b>\n",
    "- If n is even and in the inclusive range of 2 to 5 print <b>Not Weird</b>\n",
    "- If n is even and in the inclusive range of 6 to 20 print <b>Weird</b>\n",
    "- If n is even and greater than 20 print <b>Not Weird</b>"
   ]
  },
  {
   "cell_type": "code",
   "execution_count": 22,
   "metadata": {},
   "outputs": [
    {
     "name": "stdout",
     "output_type": "stream",
     "text": [
      "1\n",
      "Weird\n"
     ]
    }
   ],
   "source": [
    "n = int(input())\n",
    "if (n%2 !=0 or n in range(6,21)):\n",
    "    print(\"Weird\")\n",
    "elif ((n%2==0 and n>20) or n in range(2,6)):\n",
    "    print(\"Not Weird\")"
   ]
  },
  {
   "cell_type": "markdown",
   "metadata": {},
   "source": [
    "### Functions and Loops\n",
    "Write a program to determine if given number is<b> palindrome or not</b>.<br>\n",
    "Print true if it is palindrome, false otherwise.<br>\n",
    "##### Palindrome are the numbers for which reverse is exactly same as the original one. For eg. 121\n"
   ]
  },
  {
   "cell_type": "code",
   "execution_count": 7,
   "metadata": {},
   "outputs": [
    {
     "name": "stdout",
     "output_type": "stream",
     "text": [
      "121\n",
      "true\n"
     ]
    }
   ],
   "source": [
    "def checkPalindrome(num):\n",
    "    l=len(num)//2\n",
    "    i=0\n",
    "    c=0\n",
    "    while(l>0):\n",
    "        if (num[i]!=num[len(num)-1-i]):\n",
    "            c=1\n",
    "            break\n",
    "        else:\n",
    "            i+=1\n",
    "            l-=1\n",
    "    if (c==0):\n",
    "        return 0\n",
    "    else:\n",
    "        return 1\n",
    "num = input()\n",
    "isPalindrome = checkPalindrome(num)\n",
    "if(isPalindrome):\n",
    "    print('false')\n",
    "else:\n",
    "    print('true')\n"
   ]
  },
  {
   "cell_type": "markdown",
   "metadata": {},
   "source": [
    "### list\n",
    "For a given two-dimensional integer array/list of size (N x M), find and print the sum of each of the row elements in a single line, separated by a single space."
   ]
  },
  {
   "cell_type": "code",
   "execution_count": 9,
   "metadata": {},
   "outputs": [
    {
     "name": "stdout",
     "output_type": "stream",
     "text": [
      "1 2\n",
      "2 1\n",
      "3 "
     ]
    }
   ],
   "source": [
    "def rowWiseSum(m,n,l):\n",
    "    j=0\n",
    "    li=[]\n",
    "    while(j<m*n):\n",
    "        sum=0\n",
    "        i=0\n",
    "        while(i<n):\n",
    "            sum+=l[j]\n",
    "            j+=1\n",
    "            i+=1\n",
    "        li.append(sum)\n",
    "    return li\n",
    "\n",
    "m,n=map(int,input().split())\n",
    "l=list(map(int,input().split()))\n",
    "\n",
    "r=rowWiseSum(m,n,l)\n",
    "for i in r:\n",
    "    print(i,end=' ')\n"
   ]
  },
  {
   "cell_type": "markdown",
   "metadata": {},
   "source": [
    "### Dictionary\n",
    "In Little Flowers Public School, there are many students with same first names.<br>\n",
    "You are given a task to find the students with same names. <br>\n",
    "You will be given a string comprising of all the names of students and you have to tell the name and count of those students having same.<b> <br>If all the names are unique, print -1 instead</b>.<br>\n",
    "Note: We don't have to mention names whose frequency is 1.\n",
    "\n"
   ]
  },
  {
   "cell_type": "code",
   "execution_count": 23,
   "metadata": {},
   "outputs": [
    {
     "name": "stdout",
     "output_type": "stream",
     "text": [
      "h\n",
      "-1\n"
     ]
    }
   ],
   "source": [
    "def different_name(l):\n",
    "    s={}\n",
    "    for i in l:\n",
    "        s[i]=s.get(i,0)+1\n",
    "    if len(s)==len(l):\n",
    "        print(-1)\n",
    "    else:\n",
    "        l=set(l)\n",
    "        for i in l:\n",
    "            if (s[i]>1 ):\n",
    "                print(i,s[i])\n",
    "l=[i for i in input().split()]\n",
    "different_name(l)"
   ]
  },
  {
   "cell_type": "code",
   "execution_count": null,
   "metadata": {},
   "outputs": [],
   "source": []
  },
  {
   "cell_type": "code",
   "execution_count": null,
   "metadata": {},
   "outputs": [],
   "source": []
  }
 ],
 "metadata": {
  "kernelspec": {
   "display_name": "Python 3",
   "language": "python",
   "name": "python3"
  },
  "language_info": {
   "codemirror_mode": {
    "name": "ipython",
    "version": 3
   },
   "file_extension": ".py",
   "mimetype": "text/x-python",
   "name": "python",
   "nbconvert_exporter": "python",
   "pygments_lexer": "ipython3",
   "version": "3.8.5"
  }
 },
 "nbformat": 4,
 "nbformat_minor": 4
}
